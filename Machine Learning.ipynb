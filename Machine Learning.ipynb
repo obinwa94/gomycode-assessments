{
 "cells": [
  {
   "cell_type": "markdown",
   "id": "b77199ff-d455-4715-9e36-ed69f0b5f876",
   "metadata": {},
   "source": [
    "<!-- Objective\n",
    "Regression \n",
    "This is a dataset containing over 21613 houses and their characteristics. The goal is to find the best model to predict a house’s price. \n",
    "\n",
    " \n",
    "\n",
    "1. Explore this dataset using what you have learned in data preprocessing and data visualization \n",
    "\n",
    "2. Write a paragraph selecting the most important features (feature selection). \n",
    "\n",
    "3. Split your dataset into a training set and a testing set. \n",
    "\n",
    "4. Apply linear regression to your training set. \n",
    "\n",
    "5. Plot the linear regression. \n",
    "\n",
    "5. Measure the performance of linear regression using the testing set. \n",
    "\n",
    "6. Apply multiple-linear regression and compare it to the linear model. \n",
    "\n",
    "7. Apply polynomial regression and compare it to linear and multilinear regression. \n",
    "\n",
    "Note: Every result has to be interpreted and justified. Write your interpretations in a markdown. -->"
   ]
  },
  {
   "cell_type": "code",
   "execution_count": null,
   "id": "51c36b86-5488-4cb7-b936-e9db3ba55cbf",
   "metadata": {},
   "outputs": [],
   "source": []
  },
  {
   "cell_type": "markdown",
   "id": "9c508ad9",
   "metadata": {},
   "source": [
    "### Objective\n",
    "### Regression \n",
    "### This is a dataset containing over 21613 houses and their characteristics. The goal is to find the best model to predict a house’s price. \n",
    "\n",
    " \n",
    "\n",
    "### 1. Explore this dataset using what you have learned in data preprocessing and data visualization \n",
    "\n",
    "### 2. Write a paragraph selecting the most important features (feature selection). \n",
    "\n",
    "### 3. Split your dataset into a training set and a testing set. \n",
    "\n",
    "### 4. Apply linear regression to your training set. \n",
    "\n",
    "### 5. Plot the linear regression. \n",
    "\n",
    "### 6. Measure the performance of linear regression using the testing set. \n",
    "\n",
    "### 7. Apply multiple-linear regression and compare it to the linear model. \n",
    "\n",
    "### 8. Apply polynomial regression and compare it to linear and multilinear regression. \n",
    "\n",
    "### Note: Every result has to be interpreted and justified. Write your interpretations in a markdown."
   ]
  },
  {
   "cell_type": "code",
   "execution_count": null,
   "id": "8b188f7c-fff7-4742-a72e-fbaf97d415d5",
   "metadata": {},
   "outputs": [],
   "source": []
  },
  {
   "cell_type": "markdown",
   "id": "a5f312c4-4cd8-423a-9969-95e47d2beaa7",
   "metadata": {},
   "source": [
    "## Import libraries"
   ]
  },
  {
   "cell_type": "code",
   "execution_count": 1,
   "id": "7a0ebbe1",
   "metadata": {},
   "outputs": [],
   "source": [
    "import pandas as pd\n",
    "import numpy as np\n",
    "import sklearn\n",
    "from sklearn.model_selection import train_test_split\n",
    "from sklearn.preprocessing import StandardScaler, PolynomialFeatures\n",
    "from sklearn.linear_model import LinearRegression\n",
    "from sklearn.metrics import mean_squared_error\n",
    "from sklearn import metrics\n",
    "import matplotlib.pyplot as plt"
   ]
  },
  {
   "cell_type": "markdown",
   "id": "a8665c0c-48b2-46a0-92fa-4682b342b110",
   "metadata": {},
   "source": [
    "## Import Dataset"
   ]
  },
  {
   "cell_type": "code",
   "execution_count": 2,
   "id": "414f02ed",
   "metadata": {},
   "outputs": [
    {
     "data": {
      "text/html": [
       "<div>\n",
       "<style scoped>\n",
       "    .dataframe tbody tr th:only-of-type {\n",
       "        vertical-align: middle;\n",
       "    }\n",
       "\n",
       "    .dataframe tbody tr th {\n",
       "        vertical-align: top;\n",
       "    }\n",
       "\n",
       "    .dataframe thead th {\n",
       "        text-align: right;\n",
       "    }\n",
       "</style>\n",
       "<table border=\"1\" class=\"dataframe\">\n",
       "  <thead>\n",
       "    <tr style=\"text-align: right;\">\n",
       "      <th></th>\n",
       "      <th>id</th>\n",
       "      <th>date</th>\n",
       "      <th>price</th>\n",
       "      <th>bedrooms</th>\n",
       "      <th>bathrooms</th>\n",
       "      <th>sqft_living</th>\n",
       "      <th>sqft_lot</th>\n",
       "      <th>floors</th>\n",
       "      <th>waterfront</th>\n",
       "      <th>view</th>\n",
       "      <th>...</th>\n",
       "      <th>grade</th>\n",
       "      <th>sqft_above</th>\n",
       "      <th>sqft_basement</th>\n",
       "      <th>yr_built</th>\n",
       "      <th>yr_renovated</th>\n",
       "      <th>zipcode</th>\n",
       "      <th>lat</th>\n",
       "      <th>long</th>\n",
       "      <th>sqft_living15</th>\n",
       "      <th>sqft_lot15</th>\n",
       "    </tr>\n",
       "  </thead>\n",
       "  <tbody>\n",
       "    <tr>\n",
       "      <th>0</th>\n",
       "      <td>7129300520</td>\n",
       "      <td>20141013T000000</td>\n",
       "      <td>221900.0</td>\n",
       "      <td>3</td>\n",
       "      <td>1.00</td>\n",
       "      <td>1180</td>\n",
       "      <td>5650</td>\n",
       "      <td>1.0</td>\n",
       "      <td>0</td>\n",
       "      <td>0</td>\n",
       "      <td>...</td>\n",
       "      <td>7</td>\n",
       "      <td>1180</td>\n",
       "      <td>0</td>\n",
       "      <td>1955</td>\n",
       "      <td>0</td>\n",
       "      <td>98178</td>\n",
       "      <td>47.5112</td>\n",
       "      <td>-122.257</td>\n",
       "      <td>1340</td>\n",
       "      <td>5650</td>\n",
       "    </tr>\n",
       "    <tr>\n",
       "      <th>1</th>\n",
       "      <td>6414100192</td>\n",
       "      <td>20141209T000000</td>\n",
       "      <td>538000.0</td>\n",
       "      <td>3</td>\n",
       "      <td>2.25</td>\n",
       "      <td>2570</td>\n",
       "      <td>7242</td>\n",
       "      <td>2.0</td>\n",
       "      <td>0</td>\n",
       "      <td>0</td>\n",
       "      <td>...</td>\n",
       "      <td>7</td>\n",
       "      <td>2170</td>\n",
       "      <td>400</td>\n",
       "      <td>1951</td>\n",
       "      <td>1991</td>\n",
       "      <td>98125</td>\n",
       "      <td>47.7210</td>\n",
       "      <td>-122.319</td>\n",
       "      <td>1690</td>\n",
       "      <td>7639</td>\n",
       "    </tr>\n",
       "    <tr>\n",
       "      <th>2</th>\n",
       "      <td>5631500400</td>\n",
       "      <td>20150225T000000</td>\n",
       "      <td>180000.0</td>\n",
       "      <td>2</td>\n",
       "      <td>1.00</td>\n",
       "      <td>770</td>\n",
       "      <td>10000</td>\n",
       "      <td>1.0</td>\n",
       "      <td>0</td>\n",
       "      <td>0</td>\n",
       "      <td>...</td>\n",
       "      <td>6</td>\n",
       "      <td>770</td>\n",
       "      <td>0</td>\n",
       "      <td>1933</td>\n",
       "      <td>0</td>\n",
       "      <td>98028</td>\n",
       "      <td>47.7379</td>\n",
       "      <td>-122.233</td>\n",
       "      <td>2720</td>\n",
       "      <td>8062</td>\n",
       "    </tr>\n",
       "    <tr>\n",
       "      <th>3</th>\n",
       "      <td>2487200875</td>\n",
       "      <td>20141209T000000</td>\n",
       "      <td>604000.0</td>\n",
       "      <td>4</td>\n",
       "      <td>3.00</td>\n",
       "      <td>1960</td>\n",
       "      <td>5000</td>\n",
       "      <td>1.0</td>\n",
       "      <td>0</td>\n",
       "      <td>0</td>\n",
       "      <td>...</td>\n",
       "      <td>7</td>\n",
       "      <td>1050</td>\n",
       "      <td>910</td>\n",
       "      <td>1965</td>\n",
       "      <td>0</td>\n",
       "      <td>98136</td>\n",
       "      <td>47.5208</td>\n",
       "      <td>-122.393</td>\n",
       "      <td>1360</td>\n",
       "      <td>5000</td>\n",
       "    </tr>\n",
       "    <tr>\n",
       "      <th>4</th>\n",
       "      <td>1954400510</td>\n",
       "      <td>20150218T000000</td>\n",
       "      <td>510000.0</td>\n",
       "      <td>3</td>\n",
       "      <td>2.00</td>\n",
       "      <td>1680</td>\n",
       "      <td>8080</td>\n",
       "      <td>1.0</td>\n",
       "      <td>0</td>\n",
       "      <td>0</td>\n",
       "      <td>...</td>\n",
       "      <td>8</td>\n",
       "      <td>1680</td>\n",
       "      <td>0</td>\n",
       "      <td>1987</td>\n",
       "      <td>0</td>\n",
       "      <td>98074</td>\n",
       "      <td>47.6168</td>\n",
       "      <td>-122.045</td>\n",
       "      <td>1800</td>\n",
       "      <td>7503</td>\n",
       "    </tr>\n",
       "    <tr>\n",
       "      <th>...</th>\n",
       "      <td>...</td>\n",
       "      <td>...</td>\n",
       "      <td>...</td>\n",
       "      <td>...</td>\n",
       "      <td>...</td>\n",
       "      <td>...</td>\n",
       "      <td>...</td>\n",
       "      <td>...</td>\n",
       "      <td>...</td>\n",
       "      <td>...</td>\n",
       "      <td>...</td>\n",
       "      <td>...</td>\n",
       "      <td>...</td>\n",
       "      <td>...</td>\n",
       "      <td>...</td>\n",
       "      <td>...</td>\n",
       "      <td>...</td>\n",
       "      <td>...</td>\n",
       "      <td>...</td>\n",
       "      <td>...</td>\n",
       "      <td>...</td>\n",
       "    </tr>\n",
       "    <tr>\n",
       "      <th>21608</th>\n",
       "      <td>263000018</td>\n",
       "      <td>20140521T000000</td>\n",
       "      <td>360000.0</td>\n",
       "      <td>3</td>\n",
       "      <td>2.50</td>\n",
       "      <td>1530</td>\n",
       "      <td>1131</td>\n",
       "      <td>3.0</td>\n",
       "      <td>0</td>\n",
       "      <td>0</td>\n",
       "      <td>...</td>\n",
       "      <td>8</td>\n",
       "      <td>1530</td>\n",
       "      <td>0</td>\n",
       "      <td>2009</td>\n",
       "      <td>0</td>\n",
       "      <td>98103</td>\n",
       "      <td>47.6993</td>\n",
       "      <td>-122.346</td>\n",
       "      <td>1530</td>\n",
       "      <td>1509</td>\n",
       "    </tr>\n",
       "    <tr>\n",
       "      <th>21609</th>\n",
       "      <td>6600060120</td>\n",
       "      <td>20150223T000000</td>\n",
       "      <td>400000.0</td>\n",
       "      <td>4</td>\n",
       "      <td>2.50</td>\n",
       "      <td>2310</td>\n",
       "      <td>5813</td>\n",
       "      <td>2.0</td>\n",
       "      <td>0</td>\n",
       "      <td>0</td>\n",
       "      <td>...</td>\n",
       "      <td>8</td>\n",
       "      <td>2310</td>\n",
       "      <td>0</td>\n",
       "      <td>2014</td>\n",
       "      <td>0</td>\n",
       "      <td>98146</td>\n",
       "      <td>47.5107</td>\n",
       "      <td>-122.362</td>\n",
       "      <td>1830</td>\n",
       "      <td>7200</td>\n",
       "    </tr>\n",
       "    <tr>\n",
       "      <th>21610</th>\n",
       "      <td>1523300141</td>\n",
       "      <td>20140623T000000</td>\n",
       "      <td>402101.0</td>\n",
       "      <td>2</td>\n",
       "      <td>0.75</td>\n",
       "      <td>1020</td>\n",
       "      <td>1350</td>\n",
       "      <td>2.0</td>\n",
       "      <td>0</td>\n",
       "      <td>0</td>\n",
       "      <td>...</td>\n",
       "      <td>7</td>\n",
       "      <td>1020</td>\n",
       "      <td>0</td>\n",
       "      <td>2009</td>\n",
       "      <td>0</td>\n",
       "      <td>98144</td>\n",
       "      <td>47.5944</td>\n",
       "      <td>-122.299</td>\n",
       "      <td>1020</td>\n",
       "      <td>2007</td>\n",
       "    </tr>\n",
       "    <tr>\n",
       "      <th>21611</th>\n",
       "      <td>291310100</td>\n",
       "      <td>20150116T000000</td>\n",
       "      <td>400000.0</td>\n",
       "      <td>3</td>\n",
       "      <td>2.50</td>\n",
       "      <td>1600</td>\n",
       "      <td>2388</td>\n",
       "      <td>2.0</td>\n",
       "      <td>0</td>\n",
       "      <td>0</td>\n",
       "      <td>...</td>\n",
       "      <td>8</td>\n",
       "      <td>1600</td>\n",
       "      <td>0</td>\n",
       "      <td>2004</td>\n",
       "      <td>0</td>\n",
       "      <td>98027</td>\n",
       "      <td>47.5345</td>\n",
       "      <td>-122.069</td>\n",
       "      <td>1410</td>\n",
       "      <td>1287</td>\n",
       "    </tr>\n",
       "    <tr>\n",
       "      <th>21612</th>\n",
       "      <td>1523300157</td>\n",
       "      <td>20141015T000000</td>\n",
       "      <td>325000.0</td>\n",
       "      <td>2</td>\n",
       "      <td>0.75</td>\n",
       "      <td>1020</td>\n",
       "      <td>1076</td>\n",
       "      <td>2.0</td>\n",
       "      <td>0</td>\n",
       "      <td>0</td>\n",
       "      <td>...</td>\n",
       "      <td>7</td>\n",
       "      <td>1020</td>\n",
       "      <td>0</td>\n",
       "      <td>2008</td>\n",
       "      <td>0</td>\n",
       "      <td>98144</td>\n",
       "      <td>47.5941</td>\n",
       "      <td>-122.299</td>\n",
       "      <td>1020</td>\n",
       "      <td>1357</td>\n",
       "    </tr>\n",
       "  </tbody>\n",
       "</table>\n",
       "<p>21613 rows × 21 columns</p>\n",
       "</div>"
      ],
      "text/plain": [
       "               id             date     price  bedrooms  bathrooms  \\\n",
       "0      7129300520  20141013T000000  221900.0         3       1.00   \n",
       "1      6414100192  20141209T000000  538000.0         3       2.25   \n",
       "2      5631500400  20150225T000000  180000.0         2       1.00   \n",
       "3      2487200875  20141209T000000  604000.0         4       3.00   \n",
       "4      1954400510  20150218T000000  510000.0         3       2.00   \n",
       "...           ...              ...       ...       ...        ...   \n",
       "21608   263000018  20140521T000000  360000.0         3       2.50   \n",
       "21609  6600060120  20150223T000000  400000.0         4       2.50   \n",
       "21610  1523300141  20140623T000000  402101.0         2       0.75   \n",
       "21611   291310100  20150116T000000  400000.0         3       2.50   \n",
       "21612  1523300157  20141015T000000  325000.0         2       0.75   \n",
       "\n",
       "       sqft_living  sqft_lot  floors  waterfront  view  ...  grade  \\\n",
       "0             1180      5650     1.0           0     0  ...      7   \n",
       "1             2570      7242     2.0           0     0  ...      7   \n",
       "2              770     10000     1.0           0     0  ...      6   \n",
       "3             1960      5000     1.0           0     0  ...      7   \n",
       "4             1680      8080     1.0           0     0  ...      8   \n",
       "...            ...       ...     ...         ...   ...  ...    ...   \n",
       "21608         1530      1131     3.0           0     0  ...      8   \n",
       "21609         2310      5813     2.0           0     0  ...      8   \n",
       "21610         1020      1350     2.0           0     0  ...      7   \n",
       "21611         1600      2388     2.0           0     0  ...      8   \n",
       "21612         1020      1076     2.0           0     0  ...      7   \n",
       "\n",
       "       sqft_above  sqft_basement  yr_built  yr_renovated  zipcode      lat  \\\n",
       "0            1180              0      1955             0    98178  47.5112   \n",
       "1            2170            400      1951          1991    98125  47.7210   \n",
       "2             770              0      1933             0    98028  47.7379   \n",
       "3            1050            910      1965             0    98136  47.5208   \n",
       "4            1680              0      1987             0    98074  47.6168   \n",
       "...           ...            ...       ...           ...      ...      ...   \n",
       "21608        1530              0      2009             0    98103  47.6993   \n",
       "21609        2310              0      2014             0    98146  47.5107   \n",
       "21610        1020              0      2009             0    98144  47.5944   \n",
       "21611        1600              0      2004             0    98027  47.5345   \n",
       "21612        1020              0      2008             0    98144  47.5941   \n",
       "\n",
       "          long  sqft_living15  sqft_lot15  \n",
       "0     -122.257           1340        5650  \n",
       "1     -122.319           1690        7639  \n",
       "2     -122.233           2720        8062  \n",
       "3     -122.393           1360        5000  \n",
       "4     -122.045           1800        7503  \n",
       "...        ...            ...         ...  \n",
       "21608 -122.346           1530        1509  \n",
       "21609 -122.362           1830        7200  \n",
       "21610 -122.299           1020        2007  \n",
       "21611 -122.069           1410        1287  \n",
       "21612 -122.299           1020        1357  \n",
       "\n",
       "[21613 rows x 21 columns]"
      ]
     },
     "execution_count": 2,
     "metadata": {},
     "output_type": "execute_result"
    }
   ],
   "source": [
    "house = pd.read_csv(\"C:\\\\Users\\\\anima\\\\Documents\\\\gomycode_assessments\\\\Datasets\\\\kc_house_data (1).csv\")\n",
    "house"
   ]
  },
  {
   "cell_type": "markdown",
   "id": "af708980-c919-4bab-9b5b-efd42e14e926",
   "metadata": {},
   "source": [
    "## Checking for missing values"
   ]
  },
  {
   "cell_type": "code",
   "execution_count": 3,
   "id": "44e87cdc",
   "metadata": {},
   "outputs": [
    {
     "data": {
      "text/plain": [
       "id               0\n",
       "date             0\n",
       "price            0\n",
       "bedrooms         0\n",
       "bathrooms        0\n",
       "sqft_living      0\n",
       "sqft_lot         0\n",
       "floors           0\n",
       "waterfront       0\n",
       "view             0\n",
       "condition        0\n",
       "grade            0\n",
       "sqft_above       0\n",
       "sqft_basement    0\n",
       "yr_built         0\n",
       "yr_renovated     0\n",
       "zipcode          0\n",
       "lat              0\n",
       "long             0\n",
       "sqft_living15    0\n",
       "sqft_lot15       0\n",
       "dtype: int64"
      ]
     },
     "execution_count": 3,
     "metadata": {},
     "output_type": "execute_result"
    }
   ],
   "source": [
    "house.isnull().sum()"
   ]
  },
  {
   "cell_type": "code",
   "execution_count": 4,
   "id": "68225ea3",
   "metadata": {},
   "outputs": [
    {
     "data": {
      "text/plain": [
       "2"
      ]
     },
     "execution_count": 4,
     "metadata": {},
     "output_type": "execute_result"
    }
   ],
   "source": [
    "house['waterfront'].nunique()"
   ]
  },
  {
   "cell_type": "markdown",
   "id": "d736b609-1c29-4f45-9c5c-053c69a2a1ae",
   "metadata": {},
   "source": [
    "## Selecting Relevant Features"
   ]
  },
  {
   "cell_type": "code",
   "execution_count": 5,
   "id": "0ae8b565",
   "metadata": {},
   "outputs": [
    {
     "data": {
      "text/html": [
       "<div>\n",
       "<style scoped>\n",
       "    .dataframe tbody tr th:only-of-type {\n",
       "        vertical-align: middle;\n",
       "    }\n",
       "\n",
       "    .dataframe tbody tr th {\n",
       "        vertical-align: top;\n",
       "    }\n",
       "\n",
       "    .dataframe thead th {\n",
       "        text-align: right;\n",
       "    }\n",
       "</style>\n",
       "<table border=\"1\" class=\"dataframe\">\n",
       "  <thead>\n",
       "    <tr style=\"text-align: right;\">\n",
       "      <th></th>\n",
       "      <th>bedrooms</th>\n",
       "      <th>bathrooms</th>\n",
       "      <th>sqft_living</th>\n",
       "      <th>sqft_lot</th>\n",
       "      <th>floors</th>\n",
       "      <th>waterfront</th>\n",
       "      <th>view</th>\n",
       "      <th>condition</th>\n",
       "      <th>grade</th>\n",
       "      <th>sqft_above</th>\n",
       "      <th>sqft_basement</th>\n",
       "      <th>yr_built</th>\n",
       "      <th>yr_renovated</th>\n",
       "      <th>lat</th>\n",
       "      <th>long</th>\n",
       "      <th>sqft_living15</th>\n",
       "      <th>sqft_lot15</th>\n",
       "      <th>price</th>\n",
       "    </tr>\n",
       "  </thead>\n",
       "  <tbody>\n",
       "    <tr>\n",
       "      <th>0</th>\n",
       "      <td>3</td>\n",
       "      <td>1.00</td>\n",
       "      <td>1180</td>\n",
       "      <td>5650</td>\n",
       "      <td>1.0</td>\n",
       "      <td>0</td>\n",
       "      <td>0</td>\n",
       "      <td>3</td>\n",
       "      <td>7</td>\n",
       "      <td>1180</td>\n",
       "      <td>0</td>\n",
       "      <td>1955</td>\n",
       "      <td>0</td>\n",
       "      <td>47.5112</td>\n",
       "      <td>-122.257</td>\n",
       "      <td>1340</td>\n",
       "      <td>5650</td>\n",
       "      <td>221900.0</td>\n",
       "    </tr>\n",
       "    <tr>\n",
       "      <th>1</th>\n",
       "      <td>3</td>\n",
       "      <td>2.25</td>\n",
       "      <td>2570</td>\n",
       "      <td>7242</td>\n",
       "      <td>2.0</td>\n",
       "      <td>0</td>\n",
       "      <td>0</td>\n",
       "      <td>3</td>\n",
       "      <td>7</td>\n",
       "      <td>2170</td>\n",
       "      <td>400</td>\n",
       "      <td>1951</td>\n",
       "      <td>1991</td>\n",
       "      <td>47.7210</td>\n",
       "      <td>-122.319</td>\n",
       "      <td>1690</td>\n",
       "      <td>7639</td>\n",
       "      <td>538000.0</td>\n",
       "    </tr>\n",
       "    <tr>\n",
       "      <th>2</th>\n",
       "      <td>2</td>\n",
       "      <td>1.00</td>\n",
       "      <td>770</td>\n",
       "      <td>10000</td>\n",
       "      <td>1.0</td>\n",
       "      <td>0</td>\n",
       "      <td>0</td>\n",
       "      <td>3</td>\n",
       "      <td>6</td>\n",
       "      <td>770</td>\n",
       "      <td>0</td>\n",
       "      <td>1933</td>\n",
       "      <td>0</td>\n",
       "      <td>47.7379</td>\n",
       "      <td>-122.233</td>\n",
       "      <td>2720</td>\n",
       "      <td>8062</td>\n",
       "      <td>180000.0</td>\n",
       "    </tr>\n",
       "    <tr>\n",
       "      <th>3</th>\n",
       "      <td>4</td>\n",
       "      <td>3.00</td>\n",
       "      <td>1960</td>\n",
       "      <td>5000</td>\n",
       "      <td>1.0</td>\n",
       "      <td>0</td>\n",
       "      <td>0</td>\n",
       "      <td>5</td>\n",
       "      <td>7</td>\n",
       "      <td>1050</td>\n",
       "      <td>910</td>\n",
       "      <td>1965</td>\n",
       "      <td>0</td>\n",
       "      <td>47.5208</td>\n",
       "      <td>-122.393</td>\n",
       "      <td>1360</td>\n",
       "      <td>5000</td>\n",
       "      <td>604000.0</td>\n",
       "    </tr>\n",
       "    <tr>\n",
       "      <th>4</th>\n",
       "      <td>3</td>\n",
       "      <td>2.00</td>\n",
       "      <td>1680</td>\n",
       "      <td>8080</td>\n",
       "      <td>1.0</td>\n",
       "      <td>0</td>\n",
       "      <td>0</td>\n",
       "      <td>3</td>\n",
       "      <td>8</td>\n",
       "      <td>1680</td>\n",
       "      <td>0</td>\n",
       "      <td>1987</td>\n",
       "      <td>0</td>\n",
       "      <td>47.6168</td>\n",
       "      <td>-122.045</td>\n",
       "      <td>1800</td>\n",
       "      <td>7503</td>\n",
       "      <td>510000.0</td>\n",
       "    </tr>\n",
       "    <tr>\n",
       "      <th>...</th>\n",
       "      <td>...</td>\n",
       "      <td>...</td>\n",
       "      <td>...</td>\n",
       "      <td>...</td>\n",
       "      <td>...</td>\n",
       "      <td>...</td>\n",
       "      <td>...</td>\n",
       "      <td>...</td>\n",
       "      <td>...</td>\n",
       "      <td>...</td>\n",
       "      <td>...</td>\n",
       "      <td>...</td>\n",
       "      <td>...</td>\n",
       "      <td>...</td>\n",
       "      <td>...</td>\n",
       "      <td>...</td>\n",
       "      <td>...</td>\n",
       "      <td>...</td>\n",
       "    </tr>\n",
       "    <tr>\n",
       "      <th>21608</th>\n",
       "      <td>3</td>\n",
       "      <td>2.50</td>\n",
       "      <td>1530</td>\n",
       "      <td>1131</td>\n",
       "      <td>3.0</td>\n",
       "      <td>0</td>\n",
       "      <td>0</td>\n",
       "      <td>3</td>\n",
       "      <td>8</td>\n",
       "      <td>1530</td>\n",
       "      <td>0</td>\n",
       "      <td>2009</td>\n",
       "      <td>0</td>\n",
       "      <td>47.6993</td>\n",
       "      <td>-122.346</td>\n",
       "      <td>1530</td>\n",
       "      <td>1509</td>\n",
       "      <td>360000.0</td>\n",
       "    </tr>\n",
       "    <tr>\n",
       "      <th>21609</th>\n",
       "      <td>4</td>\n",
       "      <td>2.50</td>\n",
       "      <td>2310</td>\n",
       "      <td>5813</td>\n",
       "      <td>2.0</td>\n",
       "      <td>0</td>\n",
       "      <td>0</td>\n",
       "      <td>3</td>\n",
       "      <td>8</td>\n",
       "      <td>2310</td>\n",
       "      <td>0</td>\n",
       "      <td>2014</td>\n",
       "      <td>0</td>\n",
       "      <td>47.5107</td>\n",
       "      <td>-122.362</td>\n",
       "      <td>1830</td>\n",
       "      <td>7200</td>\n",
       "      <td>400000.0</td>\n",
       "    </tr>\n",
       "    <tr>\n",
       "      <th>21610</th>\n",
       "      <td>2</td>\n",
       "      <td>0.75</td>\n",
       "      <td>1020</td>\n",
       "      <td>1350</td>\n",
       "      <td>2.0</td>\n",
       "      <td>0</td>\n",
       "      <td>0</td>\n",
       "      <td>3</td>\n",
       "      <td>7</td>\n",
       "      <td>1020</td>\n",
       "      <td>0</td>\n",
       "      <td>2009</td>\n",
       "      <td>0</td>\n",
       "      <td>47.5944</td>\n",
       "      <td>-122.299</td>\n",
       "      <td>1020</td>\n",
       "      <td>2007</td>\n",
       "      <td>402101.0</td>\n",
       "    </tr>\n",
       "    <tr>\n",
       "      <th>21611</th>\n",
       "      <td>3</td>\n",
       "      <td>2.50</td>\n",
       "      <td>1600</td>\n",
       "      <td>2388</td>\n",
       "      <td>2.0</td>\n",
       "      <td>0</td>\n",
       "      <td>0</td>\n",
       "      <td>3</td>\n",
       "      <td>8</td>\n",
       "      <td>1600</td>\n",
       "      <td>0</td>\n",
       "      <td>2004</td>\n",
       "      <td>0</td>\n",
       "      <td>47.5345</td>\n",
       "      <td>-122.069</td>\n",
       "      <td>1410</td>\n",
       "      <td>1287</td>\n",
       "      <td>400000.0</td>\n",
       "    </tr>\n",
       "    <tr>\n",
       "      <th>21612</th>\n",
       "      <td>2</td>\n",
       "      <td>0.75</td>\n",
       "      <td>1020</td>\n",
       "      <td>1076</td>\n",
       "      <td>2.0</td>\n",
       "      <td>0</td>\n",
       "      <td>0</td>\n",
       "      <td>3</td>\n",
       "      <td>7</td>\n",
       "      <td>1020</td>\n",
       "      <td>0</td>\n",
       "      <td>2008</td>\n",
       "      <td>0</td>\n",
       "      <td>47.5941</td>\n",
       "      <td>-122.299</td>\n",
       "      <td>1020</td>\n",
       "      <td>1357</td>\n",
       "      <td>325000.0</td>\n",
       "    </tr>\n",
       "  </tbody>\n",
       "</table>\n",
       "<p>21613 rows × 18 columns</p>\n",
       "</div>"
      ],
      "text/plain": [
       "       bedrooms  bathrooms  sqft_living  sqft_lot  floors  waterfront  view  \\\n",
       "0             3       1.00         1180      5650     1.0           0     0   \n",
       "1             3       2.25         2570      7242     2.0           0     0   \n",
       "2             2       1.00          770     10000     1.0           0     0   \n",
       "3             4       3.00         1960      5000     1.0           0     0   \n",
       "4             3       2.00         1680      8080     1.0           0     0   \n",
       "...         ...        ...          ...       ...     ...         ...   ...   \n",
       "21608         3       2.50         1530      1131     3.0           0     0   \n",
       "21609         4       2.50         2310      5813     2.0           0     0   \n",
       "21610         2       0.75         1020      1350     2.0           0     0   \n",
       "21611         3       2.50         1600      2388     2.0           0     0   \n",
       "21612         2       0.75         1020      1076     2.0           0     0   \n",
       "\n",
       "       condition  grade  sqft_above  sqft_basement  yr_built  yr_renovated  \\\n",
       "0              3      7        1180              0      1955             0   \n",
       "1              3      7        2170            400      1951          1991   \n",
       "2              3      6         770              0      1933             0   \n",
       "3              5      7        1050            910      1965             0   \n",
       "4              3      8        1680              0      1987             0   \n",
       "...          ...    ...         ...            ...       ...           ...   \n",
       "21608          3      8        1530              0      2009             0   \n",
       "21609          3      8        2310              0      2014             0   \n",
       "21610          3      7        1020              0      2009             0   \n",
       "21611          3      8        1600              0      2004             0   \n",
       "21612          3      7        1020              0      2008             0   \n",
       "\n",
       "           lat     long  sqft_living15  sqft_lot15     price  \n",
       "0      47.5112 -122.257           1340        5650  221900.0  \n",
       "1      47.7210 -122.319           1690        7639  538000.0  \n",
       "2      47.7379 -122.233           2720        8062  180000.0  \n",
       "3      47.5208 -122.393           1360        5000  604000.0  \n",
       "4      47.6168 -122.045           1800        7503  510000.0  \n",
       "...        ...      ...            ...         ...       ...  \n",
       "21608  47.6993 -122.346           1530        1509  360000.0  \n",
       "21609  47.5107 -122.362           1830        7200  400000.0  \n",
       "21610  47.5944 -122.299           1020        2007  402101.0  \n",
       "21611  47.5345 -122.069           1410        1287  400000.0  \n",
       "21612  47.5941 -122.299           1020        1357  325000.0  \n",
       "\n",
       "[21613 rows x 18 columns]"
      ]
     },
     "execution_count": 5,
     "metadata": {},
     "output_type": "execute_result"
    }
   ],
   "source": [
    "rel_ft = house[['bedrooms', 'bathrooms', 'sqft_living', 'sqft_lot', 'floors', 'waterfront', 'view', 'condition', \n",
    "                'grade', 'sqft_above', 'sqft_basement', 'yr_built', 'yr_renovated', 'lat', 'long', \n",
    "               'sqft_living15', 'sqft_lot15', 'price']]\n",
    "rel_ft"
   ]
  },
  {
   "cell_type": "code",
   "execution_count": 6,
   "id": "e26e3a6d",
   "metadata": {},
   "outputs": [
    {
     "data": {
      "text/plain": [
       "1038"
      ]
     },
     "execution_count": 6,
     "metadata": {},
     "output_type": "execute_result"
    }
   ],
   "source": [
    "rel_ft['sqft_living'].nunique() # this is a numerical data"
   ]
  },
  {
   "cell_type": "code",
   "execution_count": 7,
   "id": "d6b22229",
   "metadata": {},
   "outputs": [
    {
     "data": {
      "text/plain": [
       "9782"
      ]
     },
     "execution_count": 7,
     "metadata": {},
     "output_type": "execute_result"
    }
   ],
   "source": [
    "rel_ft['sqft_lot'].nunique() # this is a numerical data"
   ]
  },
  {
   "cell_type": "code",
   "execution_count": 8,
   "id": "5be91637",
   "metadata": {},
   "outputs": [
    {
     "data": {
      "text/plain": [
       "13"
      ]
     },
     "execution_count": 8,
     "metadata": {},
     "output_type": "execute_result"
    }
   ],
   "source": [
    "rel_ft['bedrooms'].nunique() #this is categorical data"
   ]
  },
  {
   "cell_type": "code",
   "execution_count": 9,
   "id": "e25760e4",
   "metadata": {},
   "outputs": [
    {
     "data": {
      "text/plain": [
       "30"
      ]
     },
     "execution_count": 9,
     "metadata": {},
     "output_type": "execute_result"
    }
   ],
   "source": [
    "rel_ft['bathrooms'].nunique() #this is categorical"
   ]
  },
  {
   "cell_type": "markdown",
   "id": "51710a6e",
   "metadata": {},
   "source": [
    "##Important Feature selection"
   ]
  },
  {
   "cell_type": "code",
   "execution_count": 10,
   "id": "5bafc053",
   "metadata": {},
   "outputs": [
    {
     "data": {
      "text/html": [
       "<div>\n",
       "<style scoped>\n",
       "    .dataframe tbody tr th:only-of-type {\n",
       "        vertical-align: middle;\n",
       "    }\n",
       "\n",
       "    .dataframe tbody tr th {\n",
       "        vertical-align: top;\n",
       "    }\n",
       "\n",
       "    .dataframe thead th {\n",
       "        text-align: right;\n",
       "    }\n",
       "</style>\n",
       "<table border=\"1\" class=\"dataframe\">\n",
       "  <thead>\n",
       "    <tr style=\"text-align: right;\">\n",
       "      <th></th>\n",
       "      <th>bedrooms</th>\n",
       "      <th>bathrooms</th>\n",
       "      <th>sqft_living</th>\n",
       "      <th>sqft_lot</th>\n",
       "      <th>floors</th>\n",
       "      <th>waterfront</th>\n",
       "      <th>view</th>\n",
       "      <th>condition</th>\n",
       "      <th>grade</th>\n",
       "      <th>sqft_above</th>\n",
       "      <th>sqft_basement</th>\n",
       "      <th>yr_built</th>\n",
       "      <th>yr_renovated</th>\n",
       "      <th>lat</th>\n",
       "      <th>long</th>\n",
       "      <th>sqft_living15</th>\n",
       "      <th>sqft_lot15</th>\n",
       "      <th>price</th>\n",
       "    </tr>\n",
       "  </thead>\n",
       "  <tbody>\n",
       "    <tr>\n",
       "      <th>0</th>\n",
       "      <td>3</td>\n",
       "      <td>1.00</td>\n",
       "      <td>1180</td>\n",
       "      <td>5650</td>\n",
       "      <td>1.0</td>\n",
       "      <td>0</td>\n",
       "      <td>0</td>\n",
       "      <td>3</td>\n",
       "      <td>7</td>\n",
       "      <td>1180</td>\n",
       "      <td>0</td>\n",
       "      <td>1955</td>\n",
       "      <td>0</td>\n",
       "      <td>47.5112</td>\n",
       "      <td>-122.257</td>\n",
       "      <td>1340</td>\n",
       "      <td>5650</td>\n",
       "      <td>221900.0</td>\n",
       "    </tr>\n",
       "    <tr>\n",
       "      <th>1</th>\n",
       "      <td>3</td>\n",
       "      <td>2.25</td>\n",
       "      <td>2570</td>\n",
       "      <td>7242</td>\n",
       "      <td>2.0</td>\n",
       "      <td>0</td>\n",
       "      <td>0</td>\n",
       "      <td>3</td>\n",
       "      <td>7</td>\n",
       "      <td>2170</td>\n",
       "      <td>400</td>\n",
       "      <td>1951</td>\n",
       "      <td>1991</td>\n",
       "      <td>47.7210</td>\n",
       "      <td>-122.319</td>\n",
       "      <td>1690</td>\n",
       "      <td>7639</td>\n",
       "      <td>538000.0</td>\n",
       "    </tr>\n",
       "    <tr>\n",
       "      <th>2</th>\n",
       "      <td>2</td>\n",
       "      <td>1.00</td>\n",
       "      <td>770</td>\n",
       "      <td>10000</td>\n",
       "      <td>1.0</td>\n",
       "      <td>0</td>\n",
       "      <td>0</td>\n",
       "      <td>3</td>\n",
       "      <td>6</td>\n",
       "      <td>770</td>\n",
       "      <td>0</td>\n",
       "      <td>1933</td>\n",
       "      <td>0</td>\n",
       "      <td>47.7379</td>\n",
       "      <td>-122.233</td>\n",
       "      <td>2720</td>\n",
       "      <td>8062</td>\n",
       "      <td>180000.0</td>\n",
       "    </tr>\n",
       "    <tr>\n",
       "      <th>3</th>\n",
       "      <td>4</td>\n",
       "      <td>3.00</td>\n",
       "      <td>1960</td>\n",
       "      <td>5000</td>\n",
       "      <td>1.0</td>\n",
       "      <td>0</td>\n",
       "      <td>0</td>\n",
       "      <td>5</td>\n",
       "      <td>7</td>\n",
       "      <td>1050</td>\n",
       "      <td>910</td>\n",
       "      <td>1965</td>\n",
       "      <td>0</td>\n",
       "      <td>47.5208</td>\n",
       "      <td>-122.393</td>\n",
       "      <td>1360</td>\n",
       "      <td>5000</td>\n",
       "      <td>604000.0</td>\n",
       "    </tr>\n",
       "    <tr>\n",
       "      <th>4</th>\n",
       "      <td>3</td>\n",
       "      <td>2.00</td>\n",
       "      <td>1680</td>\n",
       "      <td>8080</td>\n",
       "      <td>1.0</td>\n",
       "      <td>0</td>\n",
       "      <td>0</td>\n",
       "      <td>3</td>\n",
       "      <td>8</td>\n",
       "      <td>1680</td>\n",
       "      <td>0</td>\n",
       "      <td>1987</td>\n",
       "      <td>0</td>\n",
       "      <td>47.6168</td>\n",
       "      <td>-122.045</td>\n",
       "      <td>1800</td>\n",
       "      <td>7503</td>\n",
       "      <td>510000.0</td>\n",
       "    </tr>\n",
       "    <tr>\n",
       "      <th>...</th>\n",
       "      <td>...</td>\n",
       "      <td>...</td>\n",
       "      <td>...</td>\n",
       "      <td>...</td>\n",
       "      <td>...</td>\n",
       "      <td>...</td>\n",
       "      <td>...</td>\n",
       "      <td>...</td>\n",
       "      <td>...</td>\n",
       "      <td>...</td>\n",
       "      <td>...</td>\n",
       "      <td>...</td>\n",
       "      <td>...</td>\n",
       "      <td>...</td>\n",
       "      <td>...</td>\n",
       "      <td>...</td>\n",
       "      <td>...</td>\n",
       "      <td>...</td>\n",
       "    </tr>\n",
       "    <tr>\n",
       "      <th>21608</th>\n",
       "      <td>3</td>\n",
       "      <td>2.50</td>\n",
       "      <td>1530</td>\n",
       "      <td>1131</td>\n",
       "      <td>3.0</td>\n",
       "      <td>0</td>\n",
       "      <td>0</td>\n",
       "      <td>3</td>\n",
       "      <td>8</td>\n",
       "      <td>1530</td>\n",
       "      <td>0</td>\n",
       "      <td>2009</td>\n",
       "      <td>0</td>\n",
       "      <td>47.6993</td>\n",
       "      <td>-122.346</td>\n",
       "      <td>1530</td>\n",
       "      <td>1509</td>\n",
       "      <td>360000.0</td>\n",
       "    </tr>\n",
       "    <tr>\n",
       "      <th>21609</th>\n",
       "      <td>4</td>\n",
       "      <td>2.50</td>\n",
       "      <td>2310</td>\n",
       "      <td>5813</td>\n",
       "      <td>2.0</td>\n",
       "      <td>0</td>\n",
       "      <td>0</td>\n",
       "      <td>3</td>\n",
       "      <td>8</td>\n",
       "      <td>2310</td>\n",
       "      <td>0</td>\n",
       "      <td>2014</td>\n",
       "      <td>0</td>\n",
       "      <td>47.5107</td>\n",
       "      <td>-122.362</td>\n",
       "      <td>1830</td>\n",
       "      <td>7200</td>\n",
       "      <td>400000.0</td>\n",
       "    </tr>\n",
       "    <tr>\n",
       "      <th>21610</th>\n",
       "      <td>2</td>\n",
       "      <td>0.75</td>\n",
       "      <td>1020</td>\n",
       "      <td>1350</td>\n",
       "      <td>2.0</td>\n",
       "      <td>0</td>\n",
       "      <td>0</td>\n",
       "      <td>3</td>\n",
       "      <td>7</td>\n",
       "      <td>1020</td>\n",
       "      <td>0</td>\n",
       "      <td>2009</td>\n",
       "      <td>0</td>\n",
       "      <td>47.5944</td>\n",
       "      <td>-122.299</td>\n",
       "      <td>1020</td>\n",
       "      <td>2007</td>\n",
       "      <td>402101.0</td>\n",
       "    </tr>\n",
       "    <tr>\n",
       "      <th>21611</th>\n",
       "      <td>3</td>\n",
       "      <td>2.50</td>\n",
       "      <td>1600</td>\n",
       "      <td>2388</td>\n",
       "      <td>2.0</td>\n",
       "      <td>0</td>\n",
       "      <td>0</td>\n",
       "      <td>3</td>\n",
       "      <td>8</td>\n",
       "      <td>1600</td>\n",
       "      <td>0</td>\n",
       "      <td>2004</td>\n",
       "      <td>0</td>\n",
       "      <td>47.5345</td>\n",
       "      <td>-122.069</td>\n",
       "      <td>1410</td>\n",
       "      <td>1287</td>\n",
       "      <td>400000.0</td>\n",
       "    </tr>\n",
       "    <tr>\n",
       "      <th>21612</th>\n",
       "      <td>2</td>\n",
       "      <td>0.75</td>\n",
       "      <td>1020</td>\n",
       "      <td>1076</td>\n",
       "      <td>2.0</td>\n",
       "      <td>0</td>\n",
       "      <td>0</td>\n",
       "      <td>3</td>\n",
       "      <td>7</td>\n",
       "      <td>1020</td>\n",
       "      <td>0</td>\n",
       "      <td>2008</td>\n",
       "      <td>0</td>\n",
       "      <td>47.5941</td>\n",
       "      <td>-122.299</td>\n",
       "      <td>1020</td>\n",
       "      <td>1357</td>\n",
       "      <td>325000.0</td>\n",
       "    </tr>\n",
       "  </tbody>\n",
       "</table>\n",
       "<p>21613 rows × 18 columns</p>\n",
       "</div>"
      ],
      "text/plain": [
       "       bedrooms  bathrooms  sqft_living  sqft_lot  floors  waterfront  view  \\\n",
       "0             3       1.00         1180      5650     1.0           0     0   \n",
       "1             3       2.25         2570      7242     2.0           0     0   \n",
       "2             2       1.00          770     10000     1.0           0     0   \n",
       "3             4       3.00         1960      5000     1.0           0     0   \n",
       "4             3       2.00         1680      8080     1.0           0     0   \n",
       "...         ...        ...          ...       ...     ...         ...   ...   \n",
       "21608         3       2.50         1530      1131     3.0           0     0   \n",
       "21609         4       2.50         2310      5813     2.0           0     0   \n",
       "21610         2       0.75         1020      1350     2.0           0     0   \n",
       "21611         3       2.50         1600      2388     2.0           0     0   \n",
       "21612         2       0.75         1020      1076     2.0           0     0   \n",
       "\n",
       "       condition  grade  sqft_above  sqft_basement  yr_built  yr_renovated  \\\n",
       "0              3      7        1180              0      1955             0   \n",
       "1              3      7        2170            400      1951          1991   \n",
       "2              3      6         770              0      1933             0   \n",
       "3              5      7        1050            910      1965             0   \n",
       "4              3      8        1680              0      1987             0   \n",
       "...          ...    ...         ...            ...       ...           ...   \n",
       "21608          3      8        1530              0      2009             0   \n",
       "21609          3      8        2310              0      2014             0   \n",
       "21610          3      7        1020              0      2009             0   \n",
       "21611          3      8        1600              0      2004             0   \n",
       "21612          3      7        1020              0      2008             0   \n",
       "\n",
       "           lat     long  sqft_living15  sqft_lot15     price  \n",
       "0      47.5112 -122.257           1340        5650  221900.0  \n",
       "1      47.7210 -122.319           1690        7639  538000.0  \n",
       "2      47.7379 -122.233           2720        8062  180000.0  \n",
       "3      47.5208 -122.393           1360        5000  604000.0  \n",
       "4      47.6168 -122.045           1800        7503  510000.0  \n",
       "...        ...      ...            ...         ...       ...  \n",
       "21608  47.6993 -122.346           1530        1509  360000.0  \n",
       "21609  47.5107 -122.362           1830        7200  400000.0  \n",
       "21610  47.5944 -122.299           1020        2007  402101.0  \n",
       "21611  47.5345 -122.069           1410        1287  400000.0  \n",
       "21612  47.5941 -122.299           1020        1357  325000.0  \n",
       "\n",
       "[21613 rows x 18 columns]"
      ]
     },
     "execution_count": 10,
     "metadata": {},
     "output_type": "execute_result"
    }
   ],
   "source": [
    "rel_ft = house[['bedrooms', 'bathrooms', 'sqft_living', 'sqft_lot', 'floors', 'waterfront', 'view', 'condition', \n",
    "                'grade', 'sqft_above', 'sqft_basement', 'yr_built', 'yr_renovated', 'lat', 'long', \n",
    "               'sqft_living15', 'sqft_lot15', 'price']]\n",
    "rel_ft"
   ]
  },
  {
   "cell_type": "code",
   "execution_count": 11,
   "id": "75e805a0",
   "metadata": {},
   "outputs": [],
   "source": [
    "#bedrooms is categorical\n",
    "#bathrooms is categorical\n",
    "#sqft_living is numerical\n",
    "#sqft_lot is numerical\n",
    "#floors is categorical\n",
    "#waterfront is categorical\n",
    "#view is categorical\n",
    "#condition is categorical\n",
    "#grade is categorical\n",
    "#sqft_above is numerical\n",
    "#sqft_babsemennt is numerical\n",
    "#yr_built is categorical\n",
    "#yr_renovated is categorical\n",
    "#lat is numerical\n",
    "#long is numerical\n",
    "#sqft_living15 is numerical\n",
    "#sqft_lot15 is numerical\n",
    "#price is numerical"
   ]
  },
  {
   "cell_type": "markdown",
   "id": "37738f7b-cd0c-4db0-b55f-efa551846959",
   "metadata": {},
   "source": [
    "## Setting inputs and output"
   ]
  },
  {
   "cell_type": "code",
   "execution_count": 12,
   "id": "64085041",
   "metadata": {},
   "outputs": [],
   "source": [
    "y = house['price']\n",
    "x = house[['bedrooms', 'bathrooms', 'sqft_living', 'sqft_lot', 'floors', 'waterfront', 'view', 'condition', \n",
    "                'grade', 'sqft_above', 'sqft_basement', 'yr_built', 'yr_renovated', 'lat', 'long', \n",
    "               'sqft_living15', 'sqft_lot15']]\n"
   ]
  },
  {
   "cell_type": "markdown",
   "id": "0cac94a4-94d1-45c4-934d-6c941bc5f512",
   "metadata": {},
   "source": [
    "## Standardization"
   ]
  },
  {
   "cell_type": "code",
   "execution_count": 13,
   "id": "65d7dd88",
   "metadata": {},
   "outputs": [],
   "source": [
    "sc = StandardScaler()\n",
    "trans = sc.fit_transform(rel_ft)\n"
   ]
  },
  {
   "cell_type": "code",
   "execution_count": 14,
   "id": "a0c4b8ab",
   "metadata": {
    "scrolled": true
   },
   "outputs": [
    {
     "data": {
      "text/html": [
       "<div>\n",
       "<style scoped>\n",
       "    .dataframe tbody tr th:only-of-type {\n",
       "        vertical-align: middle;\n",
       "    }\n",
       "\n",
       "    .dataframe tbody tr th {\n",
       "        vertical-align: top;\n",
       "    }\n",
       "\n",
       "    .dataframe thead th {\n",
       "        text-align: right;\n",
       "    }\n",
       "</style>\n",
       "<table border=\"1\" class=\"dataframe\">\n",
       "  <thead>\n",
       "    <tr style=\"text-align: right;\">\n",
       "      <th></th>\n",
       "      <th>0</th>\n",
       "      <th>1</th>\n",
       "      <th>2</th>\n",
       "      <th>3</th>\n",
       "      <th>4</th>\n",
       "      <th>5</th>\n",
       "      <th>6</th>\n",
       "      <th>7</th>\n",
       "      <th>8</th>\n",
       "      <th>9</th>\n",
       "      <th>10</th>\n",
       "      <th>11</th>\n",
       "      <th>12</th>\n",
       "      <th>13</th>\n",
       "      <th>14</th>\n",
       "      <th>15</th>\n",
       "      <th>16</th>\n",
       "      <th>17</th>\n",
       "    </tr>\n",
       "  </thead>\n",
       "  <tbody>\n",
       "    <tr>\n",
       "      <th>0</th>\n",
       "      <td>-0.398737</td>\n",
       "      <td>-1.447464</td>\n",
       "      <td>-0.979835</td>\n",
       "      <td>-0.228321</td>\n",
       "      <td>-0.915427</td>\n",
       "      <td>-0.087173</td>\n",
       "      <td>-0.305759</td>\n",
       "      <td>-0.629187</td>\n",
       "      <td>-0.558836</td>\n",
       "      <td>-0.734708</td>\n",
       "      <td>-0.658681</td>\n",
       "      <td>-0.544898</td>\n",
       "      <td>-0.210128</td>\n",
       "      <td>-0.352572</td>\n",
       "      <td>-0.306079</td>\n",
       "      <td>-0.943355</td>\n",
       "      <td>-0.260715</td>\n",
       "      <td>-0.866717</td>\n",
       "    </tr>\n",
       "    <tr>\n",
       "      <th>1</th>\n",
       "      <td>-0.398737</td>\n",
       "      <td>0.175607</td>\n",
       "      <td>0.533634</td>\n",
       "      <td>-0.189885</td>\n",
       "      <td>0.936506</td>\n",
       "      <td>-0.087173</td>\n",
       "      <td>-0.305759</td>\n",
       "      <td>-0.629187</td>\n",
       "      <td>-0.558836</td>\n",
       "      <td>0.460841</td>\n",
       "      <td>0.245141</td>\n",
       "      <td>-0.681079</td>\n",
       "      <td>4.746678</td>\n",
       "      <td>1.161568</td>\n",
       "      <td>-0.746341</td>\n",
       "      <td>-0.432686</td>\n",
       "      <td>-0.187868</td>\n",
       "      <td>-0.005688</td>\n",
       "    </tr>\n",
       "    <tr>\n",
       "      <th>2</th>\n",
       "      <td>-1.473959</td>\n",
       "      <td>-1.447464</td>\n",
       "      <td>-1.426254</td>\n",
       "      <td>-0.123298</td>\n",
       "      <td>-0.915427</td>\n",
       "      <td>-0.087173</td>\n",
       "      <td>-0.305759</td>\n",
       "      <td>-0.629187</td>\n",
       "      <td>-1.409587</td>\n",
       "      <td>-1.229834</td>\n",
       "      <td>-0.658681</td>\n",
       "      <td>-1.293892</td>\n",
       "      <td>-0.210128</td>\n",
       "      <td>1.283537</td>\n",
       "      <td>-0.135655</td>\n",
       "      <td>1.070140</td>\n",
       "      <td>-0.172375</td>\n",
       "      <td>-0.980849</td>\n",
       "    </tr>\n",
       "    <tr>\n",
       "      <th>3</th>\n",
       "      <td>0.676485</td>\n",
       "      <td>1.149449</td>\n",
       "      <td>-0.130550</td>\n",
       "      <td>-0.244014</td>\n",
       "      <td>-0.915427</td>\n",
       "      <td>-0.087173</td>\n",
       "      <td>-0.305759</td>\n",
       "      <td>2.444294</td>\n",
       "      <td>-0.558836</td>\n",
       "      <td>-0.891699</td>\n",
       "      <td>1.397515</td>\n",
       "      <td>-0.204446</td>\n",
       "      <td>-0.210128</td>\n",
       "      <td>-0.283288</td>\n",
       "      <td>-1.271816</td>\n",
       "      <td>-0.914174</td>\n",
       "      <td>-0.284522</td>\n",
       "      <td>0.174090</td>\n",
       "    </tr>\n",
       "    <tr>\n",
       "      <th>4</th>\n",
       "      <td>-0.398737</td>\n",
       "      <td>-0.149007</td>\n",
       "      <td>-0.435422</td>\n",
       "      <td>-0.169653</td>\n",
       "      <td>-0.915427</td>\n",
       "      <td>-0.087173</td>\n",
       "      <td>-0.305759</td>\n",
       "      <td>-0.629187</td>\n",
       "      <td>0.291916</td>\n",
       "      <td>-0.130895</td>\n",
       "      <td>-0.658681</td>\n",
       "      <td>0.544548</td>\n",
       "      <td>-0.210128</td>\n",
       "      <td>0.409550</td>\n",
       "      <td>1.199335</td>\n",
       "      <td>-0.272190</td>\n",
       "      <td>-0.192849</td>\n",
       "      <td>-0.081958</td>\n",
       "    </tr>\n",
       "    <tr>\n",
       "      <th>...</th>\n",
       "      <td>...</td>\n",
       "      <td>...</td>\n",
       "      <td>...</td>\n",
       "      <td>...</td>\n",
       "      <td>...</td>\n",
       "      <td>...</td>\n",
       "      <td>...</td>\n",
       "      <td>...</td>\n",
       "      <td>...</td>\n",
       "      <td>...</td>\n",
       "      <td>...</td>\n",
       "      <td>...</td>\n",
       "      <td>...</td>\n",
       "      <td>...</td>\n",
       "      <td>...</td>\n",
       "      <td>...</td>\n",
       "      <td>...</td>\n",
       "      <td>...</td>\n",
       "    </tr>\n",
       "    <tr>\n",
       "      <th>21608</th>\n",
       "      <td>-0.398737</td>\n",
       "      <td>0.500221</td>\n",
       "      <td>-0.598746</td>\n",
       "      <td>-0.337424</td>\n",
       "      <td>2.788439</td>\n",
       "      <td>-0.087173</td>\n",
       "      <td>-0.305759</td>\n",
       "      <td>-0.629187</td>\n",
       "      <td>0.291916</td>\n",
       "      <td>-0.312039</td>\n",
       "      <td>-0.658681</td>\n",
       "      <td>1.293542</td>\n",
       "      <td>-0.210128</td>\n",
       "      <td>1.004958</td>\n",
       "      <td>-0.938069</td>\n",
       "      <td>-0.666135</td>\n",
       "      <td>-0.412381</td>\n",
       "      <td>-0.490545</td>\n",
       "    </tr>\n",
       "    <tr>\n",
       "      <th>21609</th>\n",
       "      <td>0.676485</td>\n",
       "      <td>0.500221</td>\n",
       "      <td>0.250539</td>\n",
       "      <td>-0.224386</td>\n",
       "      <td>0.936506</td>\n",
       "      <td>-0.087173</td>\n",
       "      <td>-0.305759</td>\n",
       "      <td>-0.629187</td>\n",
       "      <td>0.291916</td>\n",
       "      <td>0.629908</td>\n",
       "      <td>-0.658681</td>\n",
       "      <td>1.463768</td>\n",
       "      <td>-0.210128</td>\n",
       "      <td>-0.356180</td>\n",
       "      <td>-1.051685</td>\n",
       "      <td>-0.228419</td>\n",
       "      <td>-0.203946</td>\n",
       "      <td>-0.381588</td>\n",
       "    </tr>\n",
       "    <tr>\n",
       "      <th>21610</th>\n",
       "      <td>-1.473959</td>\n",
       "      <td>-1.772078</td>\n",
       "      <td>-1.154047</td>\n",
       "      <td>-0.332137</td>\n",
       "      <td>0.936506</td>\n",
       "      <td>-0.087173</td>\n",
       "      <td>-0.305759</td>\n",
       "      <td>-0.629187</td>\n",
       "      <td>-0.558836</td>\n",
       "      <td>-0.927928</td>\n",
       "      <td>-0.658681</td>\n",
       "      <td>1.293542</td>\n",
       "      <td>-0.210128</td>\n",
       "      <td>0.247888</td>\n",
       "      <td>-0.604321</td>\n",
       "      <td>-1.410253</td>\n",
       "      <td>-0.394141</td>\n",
       "      <td>-0.375865</td>\n",
       "    </tr>\n",
       "    <tr>\n",
       "      <th>21611</th>\n",
       "      <td>-0.398737</td>\n",
       "      <td>0.500221</td>\n",
       "      <td>-0.522528</td>\n",
       "      <td>-0.307076</td>\n",
       "      <td>0.936506</td>\n",
       "      <td>-0.087173</td>\n",
       "      <td>-0.305759</td>\n",
       "      <td>-0.629187</td>\n",
       "      <td>0.291916</td>\n",
       "      <td>-0.227505</td>\n",
       "      <td>-0.658681</td>\n",
       "      <td>1.123316</td>\n",
       "      <td>-0.210128</td>\n",
       "      <td>-0.184414</td>\n",
       "      <td>1.028910</td>\n",
       "      <td>-0.841221</td>\n",
       "      <td>-0.420511</td>\n",
       "      <td>-0.381588</td>\n",
       "    </tr>\n",
       "    <tr>\n",
       "      <th>21612</th>\n",
       "      <td>-1.473959</td>\n",
       "      <td>-1.772078</td>\n",
       "      <td>-1.154047</td>\n",
       "      <td>-0.338752</td>\n",
       "      <td>0.936506</td>\n",
       "      <td>-0.087173</td>\n",
       "      <td>-0.305759</td>\n",
       "      <td>-0.629187</td>\n",
       "      <td>-0.558836</td>\n",
       "      <td>-0.927928</td>\n",
       "      <td>-0.658681</td>\n",
       "      <td>1.259497</td>\n",
       "      <td>-0.210128</td>\n",
       "      <td>0.245723</td>\n",
       "      <td>-0.604321</td>\n",
       "      <td>-1.410253</td>\n",
       "      <td>-0.417948</td>\n",
       "      <td>-0.585882</td>\n",
       "    </tr>\n",
       "  </tbody>\n",
       "</table>\n",
       "<p>21613 rows × 18 columns</p>\n",
       "</div>"
      ],
      "text/plain": [
       "             0         1         2         3         4         5         6   \\\n",
       "0     -0.398737 -1.447464 -0.979835 -0.228321 -0.915427 -0.087173 -0.305759   \n",
       "1     -0.398737  0.175607  0.533634 -0.189885  0.936506 -0.087173 -0.305759   \n",
       "2     -1.473959 -1.447464 -1.426254 -0.123298 -0.915427 -0.087173 -0.305759   \n",
       "3      0.676485  1.149449 -0.130550 -0.244014 -0.915427 -0.087173 -0.305759   \n",
       "4     -0.398737 -0.149007 -0.435422 -0.169653 -0.915427 -0.087173 -0.305759   \n",
       "...         ...       ...       ...       ...       ...       ...       ...   \n",
       "21608 -0.398737  0.500221 -0.598746 -0.337424  2.788439 -0.087173 -0.305759   \n",
       "21609  0.676485  0.500221  0.250539 -0.224386  0.936506 -0.087173 -0.305759   \n",
       "21610 -1.473959 -1.772078 -1.154047 -0.332137  0.936506 -0.087173 -0.305759   \n",
       "21611 -0.398737  0.500221 -0.522528 -0.307076  0.936506 -0.087173 -0.305759   \n",
       "21612 -1.473959 -1.772078 -1.154047 -0.338752  0.936506 -0.087173 -0.305759   \n",
       "\n",
       "             7         8         9         10        11        12        13  \\\n",
       "0     -0.629187 -0.558836 -0.734708 -0.658681 -0.544898 -0.210128 -0.352572   \n",
       "1     -0.629187 -0.558836  0.460841  0.245141 -0.681079  4.746678  1.161568   \n",
       "2     -0.629187 -1.409587 -1.229834 -0.658681 -1.293892 -0.210128  1.283537   \n",
       "3      2.444294 -0.558836 -0.891699  1.397515 -0.204446 -0.210128 -0.283288   \n",
       "4     -0.629187  0.291916 -0.130895 -0.658681  0.544548 -0.210128  0.409550   \n",
       "...         ...       ...       ...       ...       ...       ...       ...   \n",
       "21608 -0.629187  0.291916 -0.312039 -0.658681  1.293542 -0.210128  1.004958   \n",
       "21609 -0.629187  0.291916  0.629908 -0.658681  1.463768 -0.210128 -0.356180   \n",
       "21610 -0.629187 -0.558836 -0.927928 -0.658681  1.293542 -0.210128  0.247888   \n",
       "21611 -0.629187  0.291916 -0.227505 -0.658681  1.123316 -0.210128 -0.184414   \n",
       "21612 -0.629187 -0.558836 -0.927928 -0.658681  1.259497 -0.210128  0.245723   \n",
       "\n",
       "             14        15        16        17  \n",
       "0     -0.306079 -0.943355 -0.260715 -0.866717  \n",
       "1     -0.746341 -0.432686 -0.187868 -0.005688  \n",
       "2     -0.135655  1.070140 -0.172375 -0.980849  \n",
       "3     -1.271816 -0.914174 -0.284522  0.174090  \n",
       "4      1.199335 -0.272190 -0.192849 -0.081958  \n",
       "...         ...       ...       ...       ...  \n",
       "21608 -0.938069 -0.666135 -0.412381 -0.490545  \n",
       "21609 -1.051685 -0.228419 -0.203946 -0.381588  \n",
       "21610 -0.604321 -1.410253 -0.394141 -0.375865  \n",
       "21611  1.028910 -0.841221 -0.420511 -0.381588  \n",
       "21612 -0.604321 -1.410253 -0.417948 -0.585882  \n",
       "\n",
       "[21613 rows x 18 columns]"
      ]
     },
     "execution_count": 14,
     "metadata": {},
     "output_type": "execute_result"
    }
   ],
   "source": [
    "trans_df = pd.DataFrame(trans)\n",
    "trans_df"
   ]
  },
  {
   "cell_type": "markdown",
   "id": "a053465d-77ca-4670-adc4-03ffd9073ec0",
   "metadata": {},
   "source": [
    "## Setting inputs and outputs fro the standardized data"
   ]
  },
  {
   "cell_type": "code",
   "execution_count": 15,
   "id": "84c62d2d",
   "metadata": {
    "scrolled": true
   },
   "outputs": [],
   "source": [
    "x = trans_df.iloc[:, :-1]\n",
    "y = trans_df.iloc[:, -1]"
   ]
  },
  {
   "cell_type": "markdown",
   "id": "48c8e6af",
   "metadata": {},
   "source": [
    "## Splitting data set into train and test"
   ]
  },
  {
   "cell_type": "code",
   "execution_count": 16,
   "id": "bcd3c32a",
   "metadata": {},
   "outputs": [],
   "source": [
    "x_train, x_test, y_train, y_test = train_test_split(x, y, test_size = 0.2 , random_state = 30 )"
   ]
  },
  {
   "cell_type": "markdown",
   "id": "ce714a94-55e3-4a6f-bd84-507e4811057f",
   "metadata": {},
   "source": [
    "##  Fitting Linear regression"
   ]
  },
  {
   "cell_type": "code",
   "execution_count": 17,
   "id": "9b154170",
   "metadata": {},
   "outputs": [],
   "source": [
    "linear_model = LinearRegression()\n",
    "linear_model.fit(x_train, y_train)\n",
    "target = linear_model.predict(x_test)"
   ]
  },
  {
   "cell_type": "code",
   "execution_count": 18,
   "id": "e6f9ad61",
   "metadata": {},
   "outputs": [
    {
     "data": {
      "text/plain": [
       "array([-0.5169813 , -0.3747341 , -0.34576108, ...,  0.91831183,\n",
       "        0.22384736, -0.00547951])"
      ]
     },
     "execution_count": 18,
     "metadata": {},
     "output_type": "execute_result"
    }
   ],
   "source": [
    "target"
   ]
  },
  {
   "cell_type": "code",
   "execution_count": 19,
   "id": "fa9db857",
   "metadata": {},
   "outputs": [
    {
     "name": "stdout",
     "output_type": "stream",
     "text": [
      "0.2666089998843707\n",
      "0.7133341028473469\n"
     ]
    }
   ],
   "source": [
    "print(mean_squared_error(y_test, target))\n",
    "print(metrics.r2_score(y_test, target))"
   ]
  },
  {
   "cell_type": "markdown",
   "id": "f546b15d-81fa-40a2-84a6-3474da5cf472",
   "metadata": {},
   "source": [
    "## Linear regression for Sqft_lot"
   ]
  },
  {
   "cell_type": "code",
   "execution_count": 20,
   "id": "78359700",
   "metadata": {},
   "outputs": [],
   "source": [
    "x_sqft_lot = trans_df.iloc[:, 3]\n",
    "y_sqft_lot = trans_df.iloc[:, -1]"
   ]
  },
  {
   "cell_type": "code",
   "execution_count": 21,
   "id": "17f68c59",
   "metadata": {},
   "outputs": [],
   "source": [
    "x_train_lot, x_test_lot, y_train_lot, y_test_lot = train_test_split(x_sqft_lot, y_sqft_lot, test_size = 0.2 , random_state = 30 )"
   ]
  },
  {
   "cell_type": "code",
   "execution_count": 22,
   "id": "4b887714",
   "metadata": {},
   "outputs": [],
   "source": [
    "x_train_lot = np.array(x_train_lot).reshape(-1,1)\n",
    "x_test_lot = np.array(y_test_lot).reshape(-1,1)"
   ]
  },
  {
   "cell_type": "code",
   "execution_count": 23,
   "id": "73cd86f7",
   "metadata": {},
   "outputs": [
    {
     "data": {
      "text/plain": [
       "True"
      ]
     },
     "execution_count": 23,
     "metadata": {},
     "output_type": "execute_result"
    }
   ],
   "source": [
    "len(x_train_lot) == len(y_train_lot)"
   ]
  },
  {
   "cell_type": "code",
   "execution_count": 24,
   "id": "7bcb0b22",
   "metadata": {},
   "outputs": [],
   "source": [
    "lm = LinearRegression() # calling the linear regression function\n",
    "lm.fit(x_train_lot, y_train_lot) #fitting input and output into linear regression\n",
    "target = lm.predict(x_test_lot) #setting target using the .predict(x) function"
   ]
  },
  {
   "cell_type": "code",
   "execution_count": 25,
   "id": "752a7aee",
   "metadata": {},
   "outputs": [
    {
     "name": "stdout",
     "output_type": "stream",
     "text": [
      "MSE:  0.779318527232446\n",
      "R squared 0.16205362582034144\n"
     ]
    }
   ],
   "source": [
    "print('MSE: ', mean_squared_error(y_test_lot, target))\n",
    "print('R squared', metrics.r2_score(y_test_lot, target))"
   ]
  },
  {
   "cell_type": "code",
   "execution_count": 26,
   "id": "ea14019b-c191-4a05-9692-0ba9bb307a7a",
   "metadata": {},
   "outputs": [
    {
     "data": {
      "image/png": "[encoded data removed]",
      "text/plain": [
       "<Figure size 640x480 with 1 Axes>"
      ]
     },
     "metadata": {},
     "output_type": "display_data"
    }
   ],
   "source": [
    "plt.scatter(x_sqft_lot, y_sqft_lot, color = 'blue')\n",
    "plt.plot(x_test_lot, target, color = 'red')\n",
    "plt.title('Linear Regression')\n",
    "plt.xlabel('Square Feet Values')\n",
    "plt.ylabel('Predictions')\n",
    "plt.show()"
   ]
  },
  {
   "cell_type": "code",
   "execution_count": null,
   "id": "3c1b8cd0-6e4f-4d6f-b79f-1a9e855b2a65",
   "metadata": {},
   "outputs": [],
   "source": []
  },
  {
   "cell_type": "markdown",
   "id": "edc15dcb-f1ae-4ed3-a659-99f68e1c5c49",
   "metadata": {},
   "source": [
    "## Linear Regression for Floors"
   ]
  },
  {
   "cell_type": "code",
   "execution_count": 27,
   "id": "a8bebb37",
   "metadata": {},
   "outputs": [],
   "source": [
    "x_sqft_fl = trans_df.iloc[:, 4]\n",
    "y_sqft_fl = trans_df.iloc[:, -1]"
   ]
  },
  {
   "cell_type": "code",
   "execution_count": 28,
   "id": "0bbcf0a9",
   "metadata": {},
   "outputs": [],
   "source": [
    "x_train_fl, x_test_fl, y_train_fl, y_test_fl = train_test_split(x_sqft_fl, y_sqft_fl, test_size = 0.2 , random_state = 30 )"
   ]
  },
  {
   "cell_type": "code",
   "execution_count": 29,
   "id": "d8e4ad98",
   "metadata": {},
   "outputs": [],
   "source": [
    "x_train_fl = np.array(x_train_fl).reshape(-1,1)\n",
    "x_test_fl = np.array(y_test_fl).reshape(-1,1)"
   ]
  },
  {
   "cell_type": "code",
   "execution_count": 30,
   "id": "77cf201a",
   "metadata": {},
   "outputs": [],
   "source": [
    "flr = LinearRegression()\n",
    "flr.fit(x_train_fl, y_train_fl)\n",
    "target_fl = flr.predict(x_test_fl)"
   ]
  },
  {
   "cell_type": "code",
   "execution_count": 31,
   "id": "c653f7b7",
   "metadata": {},
   "outputs": [
    {
     "name": "stdout",
     "output_type": "stream",
     "text": [
      "MSE:  0.5075547383326088\n",
      "R squared 0.4542621048753017\n"
     ]
    }
   ],
   "source": [
    "print('MSE: ', mean_squared_error(y_test_fl, target_fl))\n",
    "print('R squared', metrics.r2_score(y_test_fl, target_fl))"
   ]
  },
  {
   "cell_type": "code",
   "execution_count": 32,
   "id": "01cfafdc-e3a4-47fc-8c9b-410b82fe94bd",
   "metadata": {},
   "outputs": [
    {
     "data": {
      "image/png": "[encoded data removed]",
      "text/plain": [
       "<Figure size 640x480 with 1 Axes>"
      ]
     },
     "metadata": {},
     "output_type": "display_data"
    }
   ],
   "source": [
    "plt.scatter(x_sqft_fl, y_sqft_fl, color = 'blue')\n",
    "plt.plot(x_test_fl, target_fl, color = 'red')\n",
    "plt.title('Square Feet Floor')\n",
    "plt.xlabel('SquareFt Floor values')\n",
    "plt.ylabel('Prediction')\n",
    "plt.show()"
   ]
  },
  {
   "cell_type": "code",
   "execution_count": null,
   "id": "0593df7e-7c2c-4f35-b2cc-f6cf0d984412",
   "metadata": {},
   "outputs": [],
   "source": []
  },
  {
   "cell_type": "markdown",
   "id": "9fbd5c5a-9782-4cb8-994d-afef45cf450e",
   "metadata": {},
   "source": [
    "## Linear Regression for waterfall"
   ]
  },
  {
   "cell_type": "code",
   "execution_count": 33,
   "id": "8b29c3bc",
   "metadata": {},
   "outputs": [],
   "source": [
    "x_wf = trans_df.iloc[:, 5]\n",
    "y_wf = trans_df.iloc[:, -1]"
   ]
  },
  {
   "cell_type": "code",
   "execution_count": 34,
   "id": "92fd0906",
   "metadata": {},
   "outputs": [],
   "source": [
    "x_train_wf, x_test_wf, y_train_wf, y_test_wf = train_test_split(x_wf, y_wf, test_size =0.2, random_state = 30)"
   ]
  },
  {
   "cell_type": "code",
   "execution_count": 35,
   "id": "b688d676",
   "metadata": {},
   "outputs": [],
   "source": [
    "x_train_wf = np.array(x_train_wf).reshape(-1,1)\n",
    "x_test_wf = np.array(x_test_wf).reshape(-1,1)"
   ]
  },
  {
   "cell_type": "code",
   "execution_count": 36,
   "id": "d160dce9",
   "metadata": {},
   "outputs": [],
   "source": [
    "wfr =LinearRegression()\n",
    "wfr.fit(x_train_wf, y_train_wf)\n",
    "target_wf = wfr.predict(x_test_wf)"
   ]
  },
  {
   "cell_type": "code",
   "execution_count": 37,
   "id": "ae893719",
   "metadata": {},
   "outputs": [
    {
     "name": "stdout",
     "output_type": "stream",
     "text": [
      "MSE:  0.8241198475933775\n",
      "R squared 0.11388191856192209\n"
     ]
    }
   ],
   "source": [
    "print('MSE: ', mean_squared_error(y_test_wf, target_wf))\n",
    "print('R squared', metrics.r2_score(y_test_wf, target_wf))"
   ]
  },
  {
   "cell_type": "code",
   "execution_count": 38,
   "id": "e64cb47f",
   "metadata": {},
   "outputs": [
    {
     "data": {
      "image/png": "[encoded data removed]",
      "text/plain": [
       "<Figure size 640x480 with 1 Axes>"
      ]
     },
     "metadata": {},
     "output_type": "display_data"
    }
   ],
   "source": [
    "plt.scatter(x_wf, y_wf, color = 'blue')\n",
    "plt.plot(x_test_wf, target_wf, color = 'red')\n",
    "plt.title('Waterfall')\n",
    "plt.xlabel('Waterfall values')\n",
    "plt.ylabel('Predictions')\n",
    "plt.show()"
   ]
  },
  {
   "cell_type": "code",
   "execution_count": null,
   "id": "4105b1e6-c85a-4829-972e-7ee53d8533e7",
   "metadata": {},
   "outputs": [],
   "source": []
  },
  {
   "cell_type": "code",
   "execution_count": null,
   "id": "354efcce-9f63-4532-b2a0-3ef437115e82",
   "metadata": {},
   "outputs": [],
   "source": []
  },
  {
   "cell_type": "markdown",
   "id": "f35263e7",
   "metadata": {},
   "source": [
    "#  Polynimial Regression"
   ]
  },
  {
   "cell_type": "code",
   "execution_count": 303,
   "id": "36db3403",
   "metadata": {},
   "outputs": [],
   "source": [
    "LR = LinearRegression()\n",
    "poly = PolynomialFeatures(degree = 4)"
   ]
  },
  {
   "cell_type": "markdown",
   "id": "a448fef6-0d9b-49db-aff3-9b0cf38bab92",
   "metadata": {},
   "source": [
    "## Polynomial regression for Bedrooms"
   ]
  },
  {
   "cell_type": "code",
   "execution_count": 304,
   "id": "39f6f55a",
   "metadata": {},
   "outputs": [],
   "source": [
    "x_bed = trans_df.iloc[:, 0]\n",
    "y_bed = trans_df.iloc[:, -1]"
   ]
  },
  {
   "cell_type": "code",
   "execution_count": 305,
   "id": "83e8f104",
   "metadata": {},
   "outputs": [],
   "source": [
    "x_bed = np.array(x_bed).reshape(-1,1)\n",
    "y_bed = np.array(y_bed).reshape(-1,1)"
   ]
  },
  {
   "cell_type": "code",
   "execution_count": null,
   "id": "41d9b708-4d85-4579-a275-71c9e18753da",
   "metadata": {},
   "outputs": [],
   "source": []
  },
  {
   "cell_type": "code",
   "execution_count": 306,
   "id": "f4fca5f4",
   "metadata": {},
   "outputs": [],
   "source": [
    "x_train_bed, x_test_bed, y_train_bed, y_test_bed = train_test_split(x_bed, y_bed, test_size = 0.2, random_state = 30)"
   ]
  },
  {
   "cell_type": "code",
   "execution_count": 307,
   "id": "83676ecd",
   "metadata": {},
   "outputs": [
    {
     "data": {
      "text/plain": [
       "LinearRegression()"
      ]
     },
     "execution_count": 307,
     "metadata": {},
     "output_type": "execute_result"
    }
   ],
   "source": [
    "poly_bedX = poly.fit_transform(x_train_bed)\n",
    "LR.fit(poly_bedX, y_train_bed)"
   ]
  },
  {
   "cell_type": "code",
   "execution_count": 308,
   "id": "b73814d7-652a-4d3a-bed6-22a77d68ab19",
   "metadata": {},
   "outputs": [],
   "source": [
    "poly_pred = LR.predict(poly_bedX)"
   ]
  },
  {
   "cell_type": "code",
   "execution_count": 309,
   "id": "72d1ef73",
   "metadata": {},
   "outputs": [],
   "source": [
    "poly_bedXX = poly.fit_transform(x_test_bed)"
   ]
  },
  {
   "cell_type": "code",
   "execution_count": 310,
   "id": "8a80760c",
   "metadata": {},
   "outputs": [],
   "source": [
    "poly_predT = LR.predict(poly_bedXX)"
   ]
  },
  {
   "cell_type": "code",
   "execution_count": 311,
   "id": "cba1f4ad",
   "metadata": {},
   "outputs": [
    {
     "name": "stdout",
     "output_type": "stream",
     "text": [
      "0.8298149831718906\n",
      "0.10775834002283102\n"
     ]
    }
   ],
   "source": [
    "print(mean_squared_error(y_test_bed, poly_predT))\n",
    "print(metrics.r2_score(y_test_bed, poly_predT))"
   ]
  },
  {
   "cell_type": "code",
   "execution_count": 312,
   "id": "0a22f6b0",
   "metadata": {},
   "outputs": [
    {
     "data": {
      "text/plain": [
       "True"
      ]
     },
     "execution_count": 312,
     "metadata": {},
     "output_type": "execute_result"
    }
   ],
   "source": [
    "len(x_train_bed) == len(y_train_bed)"
   ]
  },
  {
   "cell_type": "code",
   "execution_count": 313,
   "id": "53a3bc88",
   "metadata": {},
   "outputs": [
    {
     "data": {
      "image/png": "[encoded data removed]",
      "text/plain": [
       "<Figure size 640x480 with 1 Axes>"
      ]
     },
     "metadata": {},
     "output_type": "display_data"
    }
   ],
   "source": [
    "plt.scatter(x_bed, y_bed, color=\"blue\")\n",
    "plt.plot(x_test_bed, poly_predT, color = 'red')\n",
    "plt.title('Polynomial graph for Bedroom')\n",
    "plt.xlabel('x_test')\n",
    "plt.ylabel('Predictions')\n",
    "plt.show()"
   ]
  },
  {
   "cell_type": "code",
   "execution_count": null,
   "id": "be94b83b",
   "metadata": {},
   "outputs": [],
   "source": []
  },
  {
   "cell_type": "markdown",
   "id": "3ea3aaee-6390-4eee-8180-87987719491d",
   "metadata": {},
   "source": [
    "## polynomial regression for Square feet lot"
   ]
  },
  {
   "cell_type": "code",
   "execution_count": 314,
   "id": "aba02c1b-a125-4f41-a778-9fdcb529a7e7",
   "metadata": {},
   "outputs": [],
   "source": [
    "x_lot = trans_df.iloc[:, 3].values.reshape(-1,1)\n",
    "y_lot = trans_df.iloc[:, -1].values.reshape(-1,1)"
   ]
  },
  {
   "cell_type": "code",
   "execution_count": 315,
   "id": "06b78cb6-a102-4d00-98ce-978803752040",
   "metadata": {},
   "outputs": [],
   "source": [
    "x_train_lt, x_test_lt, y_train_lt, y_test_lt = train_test_split(x_lot, y_lot, test_size = 0.2, random_state = 30)"
   ]
  },
  {
   "cell_type": "code",
   "execution_count": null,
   "id": "39267a7f-eb4f-43ec-bd40-9bceb61d972b",
   "metadata": {},
   "outputs": [],
   "source": []
  },
  {
   "cell_type": "code",
   "execution_count": 325,
   "id": "87cd8a59-818b-44ae-8f2a-03140f3958d4",
   "metadata": {},
   "outputs": [],
   "source": [
    "#poly_fit = poly_lot.fit_transform(x_train_lt,)\n",
    "poly_lotX = poly.fit_transform(x_train_lt)"
   ]
  },
  {
   "cell_type": "code",
   "execution_count": 326,
   "id": "3e62f791-1b35-4d16-95d4-053b6364cb98",
   "metadata": {},
   "outputs": [
    {
     "data": {
      "text/plain": [
       "LinearRegression()"
      ]
     },
     "execution_count": 326,
     "metadata": {},
     "output_type": "execute_result"
    }
   ],
   "source": [
    "LR.fit(poly_lotX, y_train_lt)"
   ]
  },
  {
   "cell_type": "code",
   "execution_count": 327,
   "id": "e615e473-40dc-41e5-a33a-b8d022ee4268",
   "metadata": {},
   "outputs": [],
   "source": [
    "predict_lot = LR.predict(poly_lot.fit_transform(x_test_lt))"
   ]
  },
  {
   "cell_type": "code",
   "execution_count": 328,
   "id": "f7d5d5e5-8805-45d6-b8af-60e7de3a1a20",
   "metadata": {},
   "outputs": [
    {
     "name": "stdout",
     "output_type": "stream",
     "text": [
      "0.9015549771801589\n",
      "0.03062137257977593\n"
     ]
    }
   ],
   "source": [
    "print(mean_squared_error(y_test_lt, predict_lot))\n",
    "print(metrics.r2_score(y_test_lt, predict_lot))"
   ]
  },
  {
   "cell_type": "code",
   "execution_count": 329,
   "id": "de5a98c1-e912-4b9b-b756-2ab7e2045a53",
   "metadata": {},
   "outputs": [
    {
     "data": {
      "image/png": "[encoded data removed]",
      "text/plain": [
       "<Figure size 640x480 with 1 Axes>"
      ]
     },
     "metadata": {},
     "output_type": "display_data"
    }
   ],
   "source": [
    "plt.scatter(x_lot, y_lot, color = 'blue')\n",
    "plt.plot(x_test_lt, predict_lot, color = 'red')\n",
    "plt.show()"
   ]
  },
  {
   "cell_type": "markdown",
   "id": "2cee127f-37ff-43f5-858a-c49632f0e573",
   "metadata": {},
   "source": [
    "## Comment: polynomial regression does not produce a good model for price predictions"
   ]
  },
  {
   "cell_type": "code",
   "execution_count": null,
   "id": "e2b23936-d382-4fab-976b-0c4ad618eb7e",
   "metadata": {},
   "outputs": [],
   "source": []
  }
 ],
 "metadata": {
  "kernelspec": {
   "display_name": "Python 3 (ipykernel)",
   "language": "python",
   "name": "python3"
  },
  "language_info": {
   "codemirror_mode": {
    "name": "ipython",
    "version": 3
   },
   "file_extension": ".py",
   "mimetype": "text/x-python",
   "name": "python",
   "nbconvert_exporter": "python",
   "pygments_lexer": "ipython3",
   "version": "3.9.13"
  },
  "widgets": {
   "application/vnd.jupyter.widget-state+json": {
    "state": {},
    "version_major": 2,
    "version_minor": 0
   }
  }
 },
 "nbformat": 4,
 "nbformat_minor": 5
}
