{
 "cells": [
  {
   "cell_type": "markdown",
   "id": "75d2e66f",
   "metadata": {},
   "source": [
    "Python's Basic Operations"
   ]
  },
  {
   "cell_type": "code",
   "execution_count": 8,
   "id": "ae2ec50c",
   "metadata": {},
   "outputs": [
    {
     "name": "stdout",
     "output_type": "stream",
     "text": [
      "The result is:  8\n"
     ]
    }
   ],
   "source": [
    "x = 2\n",
    "y = 6\n",
    "print('The result is: ', x + y) # Addition"
   ]
  },
  {
   "cell_type": "code",
   "execution_count": 19,
   "id": "7e44107f",
   "metadata": {},
   "outputs": [
    {
     "name": "stdout",
     "output_type": "stream",
     "text": [
      "The result is:  -4\n"
     ]
    }
   ],
   "source": [
    "print('The result is: ', x - y) # Subtraction"
   ]
  },
  {
   "cell_type": "code",
   "execution_count": 20,
   "id": "b272b7e7",
   "metadata": {},
   "outputs": [
    {
     "name": "stdout",
     "output_type": "stream",
     "text": [
      "The result is:  12\n"
     ]
    }
   ],
   "source": [
    "print('The result is: ', x * y) # Multiplication"
   ]
  },
  {
   "cell_type": "code",
   "execution_count": 21,
   "id": "49fb7f9c",
   "metadata": {},
   "outputs": [
    {
     "name": "stdout",
     "output_type": "stream",
     "text": [
      "The result is:  3.0\n"
     ]
    }
   ],
   "source": [
    "print('The result is: ', y / x) # Division"
   ]
  },
  {
   "cell_type": "code",
   "execution_count": 22,
   "id": "07823aec",
   "metadata": {},
   "outputs": [
    {
     "name": "stdout",
     "output_type": "stream",
     "text": [
      "The result is:  36\n"
     ]
    }
   ],
   "source": [
    "print('The result is: ', y ** x) # Power"
   ]
  },
  {
   "cell_type": "code",
   "execution_count": 23,
   "id": "266de1ea",
   "metadata": {},
   "outputs": [
    {
     "name": "stdout",
     "output_type": "stream",
     "text": [
      "The result is:  0\n"
     ]
    }
   ],
   "source": [
    "print('The result is: ', y % x) # Modula"
   ]
  },
  {
   "cell_type": "code",
   "execution_count": 26,
   "id": "b90a8056",
   "metadata": {},
   "outputs": [
    {
     "name": "stdout",
     "output_type": "stream",
     "text": [
      "3.0\n"
     ]
    }
   ],
   "source": [
    "x = 19\n",
    "y = 10\n",
    "print(x%y*3/(x-y))"
   ]
  },
  {
   "cell_type": "code",
   "execution_count": 28,
   "id": "49f7be6f",
   "metadata": {},
   "outputs": [
    {
     "data": {
      "text/plain": [
       "'24'"
      ]
     },
     "execution_count": 28,
     "metadata": {},
     "output_type": "execute_result"
    }
   ],
   "source": [
    "x = 24\n",
    "str(x)"
   ]
  },
  {
   "cell_type": "markdown",
   "id": "299aead0",
   "metadata": {},
   "source": [
    "String Operation"
   ]
  },
  {
   "cell_type": "code",
   "execution_count": 37,
   "id": "8cff6aaa",
   "metadata": {},
   "outputs": [
    {
     "name": "stdout",
     "output_type": "stream",
     "text": [
      "5\n"
     ]
    }
   ],
   "source": [
    "ch = 'Hello'\n",
    "print(len(ch))"
   ]
  },
  {
   "cell_type": "code",
   "execution_count": 38,
   "id": "59f79c84",
   "metadata": {},
   "outputs": [
    {
     "data": {
      "text/plain": [
       "'H'"
      ]
     },
     "execution_count": 38,
     "metadata": {},
     "output_type": "execute_result"
    }
   ],
   "source": [
    "ch[0]"
   ]
  },
  {
   "cell_type": "code",
   "execution_count": 40,
   "id": "9d3c3e88",
   "metadata": {},
   "outputs": [
    {
     "name": "stdout",
     "output_type": "stream",
     "text": [
      "Hello world\n"
     ]
    }
   ],
   "source": [
    "A = ch+ ' world'\n",
    "print(A)"
   ]
  },
  {
   "cell_type": "code",
   "execution_count": 41,
   "id": "28bc257a",
   "metadata": {},
   "outputs": [
    {
     "data": {
      "text/plain": [
       "'o'"
      ]
     },
     "execution_count": 41,
     "metadata": {},
     "output_type": "execute_result"
    }
   ],
   "source": [
    "ch[-1]"
   ]
  },
  {
   "cell_type": "code",
   "execution_count": 42,
   "id": "4690f399",
   "metadata": {},
   "outputs": [
    {
     "data": {
      "text/plain": [
       "True"
      ]
     },
     "execution_count": 42,
     "metadata": {},
     "output_type": "execute_result"
    }
   ],
   "source": [
    "(5 != 7) == (2 >1)"
   ]
  },
  {
   "cell_type": "code",
   "execution_count": 46,
   "id": "7fe36e1f",
   "metadata": {},
   "outputs": [
    {
     "data": {
      "text/plain": [
       "True"
      ]
     },
     "execution_count": 46,
     "metadata": {},
     "output_type": "execute_result"
    }
   ],
   "source": [
    "(1!=1)==(4>5)"
   ]
  },
  {
   "cell_type": "markdown",
   "id": "de3b64a3",
   "metadata": {},
   "source": [
    "if/elsel/elif Condition"
   ]
  },
  {
   "cell_type": "code",
   "execution_count": 47,
   "id": "3324b1f4",
   "metadata": {},
   "outputs": [
    {
     "name": "stdout",
     "output_type": "stream",
     "text": [
      "The passenger has survived Titanic accident\n",
      "30\n"
     ]
    }
   ],
   "source": [
    "age = 30\n",
    "age_min = 22\n",
    "if age > age_min:\n",
    "    print('The passenger has survived Titanic accident')\n",
    "print(age)"
   ]
  },
  {
   "cell_type": "code",
   "execution_count": 44,
   "id": "1f5ea926",
   "metadata": {},
   "outputs": [
    {
     "name": "stdout",
     "output_type": "stream",
     "text": [
      "The passenger had survived\n"
     ]
    }
   ],
   "source": [
    "Age = 40\n",
    "if Age > 20:\n",
    "    print(\"The passenger had survived\")\n",
    "elif Age == 10:\n",
    "    print(\"The passenger had equal chances to survive\")\n",
    "else:\n",
    "    print(\"We need more informations to make a decision\")"
   ]
  },
  {
   "cell_type": "code",
   "execution_count": 45,
   "id": "ca67c0fb",
   "metadata": {},
   "outputs": [
    {
     "name": "stdout",
     "output_type": "stream",
     "text": [
      "x is higher than 3!\n"
     ]
    }
   ],
   "source": [
    "x = 5\n",
    "if x > 3:\n",
    "   print(\"x is higher than 3!\")\n",
    "else:\n",
    "   print(\"x is lower than 3!\")"
   ]
  },
  {
   "cell_type": "code",
   "execution_count": null,
   "id": "dfdfffac",
   "metadata": {},
   "outputs": [],
   "source": []
  }
 ],
 "metadata": {
  "kernelspec": {
   "display_name": "Python 3",
   "language": "python",
   "name": "python3"
  },
  "language_info": {
   "codemirror_mode": {
    "name": "ipython",
    "version": 3
   },
   "file_extension": ".py",
   "mimetype": "text/x-python",
   "name": "python",
   "nbconvert_exporter": "python",
   "pygments_lexer": "ipython3",
   "version": "3.8.8"
  }
 },
 "nbformat": 4,
 "nbformat_minor": 5
}
